{
 "cells": [
  {
   "cell_type": "code",
   "execution_count": 3,
   "metadata": {},
   "outputs": [
    {
     "name": "stdout",
     "output_type": "stream",
     "text": [
      "1/1 [==============================] - 0s 162ms/step\n",
      "Predicted Label: code\n"
     ]
    }
   ],
   "source": [
    "import pickle\n",
    "import numpy as np\n",
    "import tensorflow as tf\n",
    "from keras.preprocessing.sequence import pad_sequences\n",
    "from tensorflow.keras.models import load_model\n",
    "\n",
    "def load_resources(model_path, tokenizer_path, label_encoder_path):\n",
    "    # Load the trained model\n",
    "    model = load_model(model_path)\n",
    "    \n",
    "    # Load the tokenizer\n",
    "    with open(tokenizer_path, 'rb') as handle:\n",
    "        tokenizer = pickle.load(handle)\n",
    "        \n",
    "    # Load the label encoder\n",
    "    with open(label_encoder_path, 'rb') as handle:\n",
    "        label_encoder = pickle.load(handle)\n",
    "        \n",
    "    return model, tokenizer, label_encoder\n",
    "\n",
    "def preprocess_input(text, tokenizer, max_len=128):\n",
    "    # Tokenize and pad sequences\n",
    "    sequence = tokenizer.texts_to_sequences([text])\n",
    "    padded_sequence = pad_sequences(sequence, maxlen=max_len, padding='post')\n",
    "    return padded_sequence\n",
    "\n",
    "def predict(text, model, tokenizer, label_encoder, max_len):\n",
    "    # Preprocess the text\n",
    "    X = preprocess_input(text, tokenizer, max_len)\n",
    "    \n",
    "    # Make prediction\n",
    "    prediction = model.predict(X)\n",
    "    predicted_class = label_encoder.inverse_transform([np.argmax(prediction)])\n",
    "    \n",
    "    return predicted_class[0]\n",
    "\n",
    "if __name__ == \"__main__\":\n",
    "    # Paths to the resources\n",
    "    model_path = 'model_weights.h5'\n",
    "    tokenizer_path = 'tokenizer.pickle'\n",
    "    label_encoder_path = 'label_encoder.pickle'\n",
    "\n",
    "    # Load resources\n",
    "    model, tokenizer, label_encoder = load_resources(model_path, tokenizer_path, label_encoder_path)\n",
    "    \n",
    "    # Maximum length of sequences used during training\n",
    "    max_len = 279  # per the training\n",
    "    \n",
    "    # Input text\n",
    "    input_text = \"write a python script that can read a text file and output the number of lines, words, and characters in the file\"\n",
    "    \n",
    "    # Prediction\n",
    "    predicted_label = predict(input_text, model, tokenizer, label_encoder, max_len)\n",
    "    print(f\"Predicted Label: {predicted_label}\")\n",
    "\n"
   ]
  },
  {
   "cell_type": "markdown",
   "metadata": {},
   "source": [
    "**  Test Code for prompt classifier"
   ]
  }
 ],
 "metadata": {
  "kernelspec": {
   "display_name": "Python 3",
   "language": "python",
   "name": "python3"
  },
  "language_info": {
   "codemirror_mode": {
    "name": "ipython",
    "version": 3
   },
   "file_extension": ".py",
   "mimetype": "text/x-python",
   "name": "python",
   "nbconvert_exporter": "python",
   "pygments_lexer": "ipython3",
   "version": "3.9.6"
  }
 },
 "nbformat": 4,
 "nbformat_minor": 2
}
