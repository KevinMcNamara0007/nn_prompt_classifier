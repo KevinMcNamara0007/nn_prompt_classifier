{
 "cells": [
  {
   "cell_type": "code",
   "execution_count": 1,
   "metadata": {},
   "outputs": [
    {
     "name": "stdout",
     "output_type": "stream",
     "text": [
      "2.15.0\n",
      "[PhysicalDevice(name='/physical_device:GPU:0', device_type='GPU')]\n",
      "Num GPUs Available:  1\n"
     ]
    }
   ],
   "source": [
    "# import necessary libraries\n",
    "import numpy as np\n",
    "import pandas as pd\n",
    "import tensorflow as tf\n",
    "import pickle\n",
    "from tensorflow.keras.preprocessing.text import Tokenizer\n",
    "from keras.preprocessing.sequence import pad_sequences\n",
    "from tensorflow.keras.regularizers import l2\n",
    "from tensorflow.keras.callbacks import EarlyStopping, ReduceLROnPlateau\n",
    "from tensorflow.keras.optimizers.legacy import Adam\n",
    "from tensorflow.keras.utils import to_categorical\n",
    "from tensorflow.keras.models import Sequential\n",
    "from tensorflow.keras.layers import Dense, Dropout, Flatten, Embedding, Conv1D, MaxPooling1D, BatchNormalization, LeakyReLU, GlobalAveragePooling1D\n",
    "from sklearn.model_selection import train_test_split\n",
    "from sklearn.preprocessing import LabelEncoder\n",
    "from sklearn.metrics import classification_report, confusion_matrix\n",
    "import seaborn as sns\n",
    "import matplotlib.pyplot as plt\n",
    "import warnings\n",
    "warnings.filterwarnings('ignore', category=UserWarning)\n",
    "\n",
    "# check tensorflow version\n",
    "print(tf.__version__)\n",
    "\n",
    "# If a GPU is available, this should print a device name that includes \"Metal\"\n",
    "print(tf.config.list_physical_devices('GPU'))\n",
    "\n",
    "# verify tensorflow sees all GPUs available on my M1 Max\n",
    "print(\"Num GPUs Available: \", len(tf.config.list_physical_devices('GPU')))"
   ]
  },
  {
   "cell_type": "code",
   "execution_count": 2,
   "metadata": {},
   "outputs": [
    {
     "name": "stdout",
     "output_type": "stream",
     "text": [
      "Shape of df_code: (5000, 4)\n",
      "Shape of df_language: (5000, 4)\n",
      "Shape of df_math: (5000, 4)\n"
     ]
    }
   ],
   "source": [
    "# read in json data file\n",
    "df = pd.read_json(\"data/prompts.json\")\n",
    "\n",
    "# create a dataframe of length = 5000 based on the column label = code\n",
    "categories = ['code', 'language', 'math']\n",
    "df_dict = {}\n",
    "for category in categories:\n",
    "    df_dict[category] = df[df['label'] == category].head(5000)  # assuming each category has at least 5000 entries\n",
    "    print(f'Shape of df_{category}: {df_dict[category].shape}')\n",
    "\n",
    "# Concatenate the data from all categories\n",
    "X = pd.concat(df_dict.values())\n",
    "\n",
    "# Assuming that 'instruction' is the name of the column containing the text data\n",
    "y = X['label']\n",
    "\n",
    "# Split the data into training and testing sets (80% for training and 20% for testing)\n",
    "X_train_validate, X_test, y_train_validate, y_test = train_test_split(X['instruction'], y, test_size=0.2, random_state=42)\n",
    "\n",
    "# Split the training set into training and validation sets (70% for training and 30% for validation)\n",
    "X_train, X_validate, y_train, y_validate = train_test_split(X_train_validate, y_train_validate, test_size=0.3, random_state=42)\n",
    "\n",
    "# Tokenize the input sequences\n",
    "tokenizer = Tokenizer(num_words=10000, oov_token=\"<OOV>\")\n",
    "tokenizer.fit_on_texts(X_train)\n",
    "\n",
    "# Convert texts to sequences\n",
    "X_train_seq = tokenizer.texts_to_sequences(X_train)\n",
    "X_validate_seq = tokenizer.texts_to_sequences(X_validate)\n",
    "X_test_seq = tokenizer.texts_to_sequences(X_test)\n",
    "\n",
    "# Pad the sequences to a fixed length\n",
    "max_len = 100\n",
    "X_train_pad = pad_sequences(X_train_seq, maxlen=max_len, padding='post', truncating='post')\n",
    "X_validate_pad = pad_sequences(X_validate_seq, maxlen=max_len, padding='post', truncating='post')\n",
    "X_test_pad = pad_sequences(X_test_seq, maxlen=max_len, padding='post', truncating='post')\n",
    "\n",
    "# Create a label encoder object\n",
    "encoder = LabelEncoder()\n",
    "encoder.fit(y_train)\n",
    "y_train_encoded = to_categorical(encoder.transform(y_train))\n",
    "y_validate_encoded = to_categorical(encoder.transform(y_validate))\n",
    "y_test_encoded = to_categorical(encoder.transform(y_test))"
   ]
  },
  {
   "cell_type": "markdown",
   "metadata": {},
   "source": [
    "** Build and evaluate the Model"
   ]
  },
  {
   "cell_type": "code",
   "execution_count": 3,
   "metadata": {},
   "outputs": [
    {
     "name": "stderr",
     "output_type": "stream",
     "text": [
      "2024-04-09 12:15:04.669439: I metal_plugin/src/device/metal_device.cc:1154] Metal device set to: Apple M1 Max\n",
      "2024-04-09 12:15:04.669462: I metal_plugin/src/device/metal_device.cc:296] systemMemory: 64.00 GB\n",
      "2024-04-09 12:15:04.669468: I metal_plugin/src/device/metal_device.cc:313] maxCacheSize: 24.00 GB\n",
      "2024-04-09 12:15:04.669501: I tensorflow/core/common_runtime/pluggable_device/pluggable_device_factory.cc:306] Could not identify NUMA node of platform GPU ID 0, defaulting to 0. Your kernel may not have been built with NUMA support.\n",
      "2024-04-09 12:15:04.669518: I tensorflow/core/common_runtime/pluggable_device/pluggable_device_factory.cc:272] Created TensorFlow device (/job:localhost/replica:0/task:0/device:GPU:0 with 0 MB memory) -> physical PluggableDevice (device: 0, name: METAL, pci bus id: <undefined>)\n"
     ]
    },
    {
     "name": "stdout",
     "output_type": "stream",
     "text": [
      "Epoch 1/40\n"
     ]
    },
    {
     "name": "stderr",
     "output_type": "stream",
     "text": [
      "2024-04-09 12:15:05.782171: I tensorflow/core/grappler/optimizers/custom_graph_optimizer_registry.cc:117] Plugin optimizer for device_type GPU is enabled.\n"
     ]
    },
    {
     "name": "stdout",
     "output_type": "stream",
     "text": [
      "132/132 [==============================] - 13s 84ms/step - loss: 5.1546 - accuracy: 0.4238 - val_loss: 3.7825 - val_accuracy: 0.3342 - lr: 0.0010\n",
      "Epoch 2/40\n",
      "132/132 [==============================] - 10s 76ms/step - loss: 2.6993 - accuracy: 0.6390 - val_loss: 3.1065 - val_accuracy: 0.3342 - lr: 0.0010\n",
      "Epoch 3/40\n",
      "132/132 [==============================] - 10s 76ms/step - loss: 1.6173 - accuracy: 0.8280 - val_loss: 2.5433 - val_accuracy: 0.3344 - lr: 0.0010\n",
      "Epoch 4/40\n",
      "132/132 [==============================] - 10s 77ms/step - loss: 1.0254 - accuracy: 0.8873 - val_loss: 1.9312 - val_accuracy: 0.3467 - lr: 0.0010\n",
      "Epoch 5/40\n",
      "132/132 [==============================] - 10s 77ms/step - loss: 0.6995 - accuracy: 0.9115 - val_loss: 1.0870 - val_accuracy: 0.6686 - lr: 0.0010\n",
      "Epoch 6/40\n",
      "132/132 [==============================] - 10s 76ms/step - loss: 0.5148 - accuracy: 0.9214 - val_loss: 0.7200 - val_accuracy: 0.8253 - lr: 0.0010\n",
      "Epoch 7/40\n",
      "132/132 [==============================] - 10s 76ms/step - loss: 0.4052 - accuracy: 0.9294 - val_loss: 0.6241 - val_accuracy: 0.8525 - lr: 0.0010\n",
      "Epoch 8/40\n",
      "132/132 [==============================] - 10s 76ms/step - loss: 0.3524 - accuracy: 0.9288 - val_loss: 0.6046 - val_accuracy: 0.8553 - lr: 0.0010\n",
      "Epoch 9/40\n",
      "132/132 [==============================] - 10s 77ms/step - loss: 0.3165 - accuracy: 0.9326 - val_loss: 0.5564 - val_accuracy: 0.8581 - lr: 0.0010\n",
      "Epoch 10/40\n",
      "132/132 [==============================] - 10s 77ms/step - loss: 0.2964 - accuracy: 0.9349 - val_loss: 0.5569 - val_accuracy: 0.8503 - lr: 0.0010\n",
      "Epoch 11/40\n",
      "132/132 [==============================] - 10s 76ms/step - loss: 0.2910 - accuracy: 0.9351 - val_loss: 0.5489 - val_accuracy: 0.8625 - lr: 0.0010\n",
      "Epoch 12/40\n",
      "132/132 [==============================] - 10s 77ms/step - loss: 0.2849 - accuracy: 0.9358 - val_loss: 0.5793 - val_accuracy: 0.8381 - lr: 0.0010\n",
      "Epoch 13/40\n",
      "132/132 [==============================] - 10s 78ms/step - loss: 0.2793 - accuracy: 0.9387 - val_loss: 0.5866 - val_accuracy: 0.8525 - lr: 0.0010\n",
      "Epoch 14/40\n",
      "132/132 [==============================] - 10s 77ms/step - loss: 0.2672 - accuracy: 0.9394 - val_loss: 0.5446 - val_accuracy: 0.8544 - lr: 0.0010\n",
      "Epoch 15/40\n",
      "132/132 [==============================] - 10s 76ms/step - loss: 0.2626 - accuracy: 0.9402 - val_loss: 0.5779 - val_accuracy: 0.8467 - lr: 0.0010\n",
      "Epoch 16/40\n",
      "132/132 [==============================] - 10s 76ms/step - loss: 0.2617 - accuracy: 0.9412 - val_loss: 0.5584 - val_accuracy: 0.8511 - lr: 0.0010\n",
      "Epoch 17/40\n",
      "132/132 [==============================] - 10s 76ms/step - loss: 0.2531 - accuracy: 0.9433 - val_loss: 0.6011 - val_accuracy: 0.8364 - lr: 0.0010\n",
      "94/94 [==============================] - 1s 5ms/step\n",
      "              precision    recall  f1-score   support\n",
      "\n",
      "        code       0.85      0.88      0.86      1037\n",
      "    language       0.85      0.90      0.87       970\n",
      "        math       0.89      0.80      0.84       993\n",
      "\n",
      "    accuracy                           0.86      3000\n",
      "   macro avg       0.86      0.86      0.86      3000\n",
      "weighted avg       0.86      0.86      0.86      3000\n",
      "\n"
     ]
    },
    {
     "data": {
      "image/png": "[encoded data removed]",
      "text/plain": [
       "<Figure size 1000x800 with 2 Axes>"
      ]
     },
     "metadata": {},
     "output_type": "display_data"
    }
   ],
   "source": [
    "# Define the model with adjusted regularization and learning rate scheduler\n",
    "def create_model(input_shape, num_classes):\n",
    "\n",
    "    model = Sequential([\n",
    "        #input layer\n",
    "        Embedding(input_dim=10000, output_dim=128, input_length=input_shape),\n",
    "        #first convolutional layer\n",
    "        Conv1D(128, 3, padding='same', activation='relu', kernel_regularizer=l2(0.01)),\n",
    "        BatchNormalization(),\n",
    "        MaxPooling1D(2),\n",
    "        Dropout(0.55),\n",
    "        #second convolutional layer\n",
    "        Conv1D(64, 3, padding='same', activation='relu', kernel_regularizer=l2(0.01)),\n",
    "        BatchNormalization(),\n",
    "        MaxPooling1D(2),\n",
    "        Dropout(0.55),\n",
    "        #Flatten the output\n",
    "        Flatten(),\n",
    "        #first dense layer\n",
    "        Dense(256, activation='relu', kernel_regularizer=l2(0.01)),\n",
    "        BatchNormalization(),\n",
    "        #LeakyReLU(alpha=0.1),\n",
    "        Dropout(0.55),\n",
    "        #output layer\n",
    "        Dense(num_classes, activation='softmax')\n",
    "    ])\n",
    "    return model\n",
    "\n",
    "# Adjustments to the training routine\n",
    "model = create_model(max_len, len(encoder.classes_))\n",
    "model.compile(optimizer=Adam(learning_rate=0.001), loss='categorical_crossentropy', metrics=['accuracy'])\n",
    "lr_schedule = ReduceLROnPlateau(monitor='val_loss', factor=0.5, patience=3)\n",
    "early_stopping = EarlyStopping(monitor='val_loss', patience=3, restore_best_weights=True)\n",
    "\n",
    "# Train the model with callbacks\n",
    "history = model.fit(\n",
    "    X_train_pad, \n",
    "    y_train_encoded, \n",
    "    validation_data=(X_validate_pad, y_validate_encoded), \n",
    "    epochs=40, \n",
    "    batch_size=64, \n",
    "    callbacks=[early_stopping, lr_schedule]\n",
    ")\n",
    "\n",
    "# Evaluate the model\n",
    "def evaluate_model(model, X, y, label_names):\n",
    "    predictions = model.predict(X)\n",
    "    predicted_classes = np.argmax(predictions, axis=1)\n",
    "    true_classes = np.argmax(y, axis=1)\n",
    "    print(classification_report(true_classes, predicted_classes, target_names=label_names))\n",
    "    confusion_mtx = confusion_matrix(true_classes, predicted_classes)\n",
    "    plt.figure(figsize=(10, 8))\n",
    "    sns.heatmap(confusion_mtx, annot=True, fmt='d', cmap='Blues', xticklabels=label_names, yticklabels=label_names)\n",
    "    plt.ylabel('Actual')\n",
    "    plt.xlabel('Predicted')\n",
    "    plt.title('Confusion Matrix')\n",
    "    plt.show()\n",
    "\n",
    "# Validate model performance\n",
    "class_names = encoder.classes_\n",
    "evaluate_model(model, X_test_pad, y_test_encoded, class_names)"
   ]
  },
  {
   "cell_type": "markdown",
   "metadata": {},
   "source": [
    "** Test the output"
   ]
  },
  {
   "cell_type": "code",
   "execution_count": 4,
   "metadata": {},
   "outputs": [
    {
     "name": "stdout",
     "output_type": "stream",
     "text": [
      "1/1 [==============================] - 0s 88ms/step\n",
      "The predicted category for the prompt is: language\n"
     ]
    }
   ],
   "source": [
    "# Function to preprocess and predict the category of a new prompt\n",
    "def classify_prompt(prompt, tokenizer, model, max_len, label_encoder):\n",
    "    # Tokenize the prompt\n",
    "    seq = tokenizer.texts_to_sequences([prompt])\n",
    "    # Pad the sequence\n",
    "    padded = pad_sequences(seq, maxlen=max_len, padding='post')\n",
    "    # Predict the category\n",
    "    prediction = model.predict(padded)\n",
    "    # Get the class index\n",
    "    predicted_class_index = np.argmax(prediction, axis=1)\n",
    "    # Decode the class index to the actual class name\n",
    "    predicted_class = label_encoder.inverse_transform(predicted_class_index)\n",
    "    return predicted_class\n",
    "\n",
    "# Example prompt\n",
    "prompt = \"explain psycopathy\"\n",
    "\n",
    "# Classifying the prompt\n",
    "predicted_category = classify_prompt(prompt, tokenizer, model, max_len, encoder)\n",
    "print(\"The predicted category for the prompt is:\", predicted_category[0])\n"
   ]
  },
  {
   "cell_type": "markdown",
   "metadata": {},
   "source": [
    "** Save and generalize the model"
   ]
  },
  {
   "cell_type": "code",
   "execution_count": 5,
   "metadata": {},
   "outputs": [],
   "source": [
    "model.save('model2.h5')\n",
    "\n",
    "with open('tokenizer.pickle', 'wb') as handle:\n",
    "    pickle.dump(tokenizer, handle, protocol=pickle.HIGHEST_PROTOCOL)\n",
    "\n",
    "with open('label_encoder.pickle', 'wb') as handle:\n",
    "    pickle.dump(encoder, handle, protocol=pickle.HIGHEST_PROTOCOL)\n",
    "    \n"
   ]
  }
 ],
 "metadata": {
  "kernelspec": {
   "display_name": "Python 3",
   "language": "python",
   "name": "python3"
  },
  "language_info": {
   "codemirror_mode": {
    "name": "ipython",
    "version": 3
   },
   "file_extension": ".py",
   "mimetype": "text/x-python",
   "name": "python",
   "nbconvert_exporter": "python",
   "pygments_lexer": "ipython3",
   "version": "3.9.6"
  }
 },
 "nbformat": 4,
 "nbformat_minor": 2
}
